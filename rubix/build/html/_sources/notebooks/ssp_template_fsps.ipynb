{
 "cells": [
  {
   "cell_type": "markdown",
   "metadata": {},
   "source": [
    "# Showcase how to get an SSP template using pyFSPS"
   ]
  },
  {
   "cell_type": "markdown",
   "metadata": {},
   "source": [
    "This notebook will show you how you get an SSP template using the python binding (*pyFSPS*) to Charly Conroy's *FSPS* package.\n",
    "For more information about *pyFSPS* see https://dfm.io/python-fsps/current/ for more information about *FSPS* see https://github.com/cconroy20/fsps"
   ]
  },
  {
   "cell_type": "markdown",
   "metadata": {},
   "source": [
    "Since switching between different supported stellar isochrone and spectral libraries in *pyFSPS* requires (re-) installing *pyFSPS* with specific compiler flags **we do not add a dependence onto *pyFSPS*** and leave the installation of it to the user. See here https://dfm.io/python-fsps/current/installation/ for information on the install process."
   ]
  },
  {
   "cell_type": "markdown",
   "metadata": {},
   "source": [
    "Currently Rubix supports to run *pyFSPS* to create an SSP template from scratch -- use the config option `source=rerun_from_scratch`. But note, this is mainly a wrapper around the *pyFSPS* `StellarPopulation()` and `get_spectrum()` functions. If you use the `get_ssp_template()` function from *Rubix* to create the ssp template via *pyFSPS* it will only pass default parameters (`add_neb_emission=True, imf_type=2, zmet=None, tage=0.0, peraa=True`) over to pyFSPS.\n",
    "\n",
    "While its possible to pass all relevant function parameters to *pyFSPS* through `rubix.spectra.ssp.fsps_grid.retrieve_ssp_data_from_fsps()` or `.write_fsps_data_to_disk()` we recommend to run *pyFSPS* separate from *Rubix* if you want full control over the process.\n",
    "\n",
    "Since *pyFSPS* runs can take quite some time, this will silently save the ssp template to a *hdf5* file with filename specified under the config entry `filename`. Additionally we support to load pre-existing templates created via *FSPS* using the config option `source=load_from_file` via our standard `HDF5SSPGrid` class."
   ]
  },
  {
   "cell_type": "code",
   "execution_count": null,
   "metadata": {},
   "outputs": [],
   "source": [
    "# NBVAL_SKIP\n",
    "from rubix.spectra.ssp.factory import get_ssp_template\n",
    "ssp = get_ssp_template(\"FSPS\")\n",
    "ssp"
   ]
  },
  {
   "cell_type": "code",
   "execution_count": null,
   "metadata": {},
   "outputs": [],
   "source": [
    "# NBVAL_SKIP\n",
    "ssp.age.shape"
   ]
  },
  {
   "cell_type": "code",
   "execution_count": null,
   "metadata": {},
   "outputs": [],
   "source": [
    "# NBVAL_SKIP\n",
    "ssp.metallicity.shape"
   ]
  },
  {
   "cell_type": "code",
   "execution_count": null,
   "metadata": {},
   "outputs": [],
   "source": [
    "# NBVAL_SKIP\n",
    "ssp.wavelength.shape"
   ]
  },
  {
   "cell_type": "code",
   "execution_count": null,
   "metadata": {},
   "outputs": [],
   "source": [
    "# NBVAL_SKIP\n",
    "ssp.flux.shape"
   ]
  },
  {
   "cell_type": "code",
   "execution_count": null,
   "metadata": {},
   "outputs": [],
   "source": [
    "# NBVAL_SKIP\n",
    "import os\n",
    "from rubix.paths import TEMPLATE_PATH\n",
    "os.path.exists(os.path.join(TEMPLATE_PATH, config['file_name']))"
   ]
  },
  {
   "cell_type": "markdown",
   "metadata": {},
   "source": [
    "## Let's plot some of the spectra"
   ]
  },
  {
   "cell_type": "code",
   "execution_count": null,
   "metadata": {},
   "outputs": [],
   "source": [
    "# NBVAL_SKIP\n",
    "import matplotlib.pyplot as plt\n",
    "import numpy as np"
   ]
  },
  {
   "cell_type": "code",
   "execution_count": null,
   "metadata": {},
   "outputs": [],
   "source": [
    "# NBVAL_SKIP\n",
    "plt.plot(ssp.wavelength,ssp.flux[0][0])\n",
    "plt.xlabel(r'$\\lambda$ [%s]'%config[\"fields\"][\"wavelength\"][\"units\"])\n",
    "plt.ylabel(r'Flux [%s]'%config[\"fields\"][\"flux\"][\"units\"])\n",
    "#plt.yscale(\"log\")\n",
    "plt.xlim(0,10000)"
   ]
  },
  {
   "cell_type": "code",
   "execution_count": null,
   "metadata": {},
   "outputs": [],
   "source": [
    "# NBVAL_SKIP\n",
    "plt.plot(ssp.wavelength,ssp.flux[-1][-1])\n",
    "plt.xlabel(r'$\\lambda$ [%s]'%config[\"fields\"][\"wavelength\"][\"units\"])\n",
    "plt.ylabel(r'Flux [%s]'%config[\"fields\"][\"flux\"][\"units\"])\n",
    "#plt.yscale(\"log\")\n",
    "plt.xlim(0,10000)"
   ]
  },
  {
   "cell_type": "code",
   "execution_count": null,
   "metadata": {},
   "outputs": [],
   "source": [
    "# NBVAL_SKIP\n",
    "for i in range(len(ssp.metallicity)):\n",
    "    plt.plot(ssp.wavelength,ssp.flux[i][0], label=r'Z=%0.3f'%ssp.metallicity[i])\n",
    "plt.xlabel(r'$\\lambda$ [%s]'%config[\"fields\"][\"wavelength\"][\"units\"])\n",
    "plt.ylabel(r'Flux [%s]'%config[\"fields\"][\"flux\"][\"units\"])\n",
    "#plt.yscale(\"log\")\n",
    "plt.xlim(0,10000)\n",
    "plt.legend()"
   ]
  },
  {
   "cell_type": "code",
   "execution_count": null,
   "metadata": {},
   "outputs": [],
   "source": [
    "# NBVAL_SKIP\n",
    "ages = np.linspace(0,len(ssp.age),10)\n",
    "for age in ages:\n",
    "    plt.plot(ssp.wavelength,ssp.flux[0][int(age)], label='%.2f %s'%(ssp.age[int(age)], config[\"fields\"][\"age\"][\"units\"]))\n",
    "plt.xlabel(r'$\\lambda$ [%s]'%config[\"fields\"][\"wavelength\"][\"units\"])\n",
    "plt.ylabel(r'Flux [%s]'%config[\"fields\"][\"flux\"][\"units\"])\n",
    "#plt.yscale(\"log\")\n",
    "plt.xlim(0,5000)\n",
    "plt.legend()"
   ]
  },
  {
   "cell_type": "markdown",
   "metadata": {},
   "source": [
    "## Reload the created FSPS template"
   ]
  },
  {
   "cell_type": "markdown",
   "metadata": {},
   "source": [
    "This is only for tutorial purposes as you would need to run fsps like above first to have a pre-existing template..."
   ]
  },
  {
   "cell_type": "code",
   "execution_count": null,
   "metadata": {},
   "outputs": [],
   "source": [
    "from rubix import config as rubix_config\n",
    "rubix_config[\"ssp\"][\"templates\"][\"FSPS\"][\"source\"] = \"load_from_file\""
   ]
  },
  {
   "cell_type": "code",
   "execution_count": null,
   "metadata": {},
   "outputs": [],
   "source": [
    "# NBVAL_SKIP\n",
    "ssp2 = get_ssp_template(\"FSPS\")\n",
    "ssp2"
   ]
  },
  {
   "cell_type": "code",
   "execution_count": null,
   "metadata": {},
   "outputs": [],
   "source": [
    "# NBVAL_SKIP\n",
    "ssp.wavelength.shape == ssp2.wavelength.shape"
   ]
  },
  {
   "cell_type": "code",
   "execution_count": null,
   "metadata": {},
   "outputs": [],
   "source": []
  }
 ],
 "metadata": {
  "kernelspec": {
   "display_name": "rubix",
   "language": "python",
   "name": "python3"
  },
  "language_info": {
   "codemirror_mode": {
    "name": "ipython",
    "version": 3
   },
   "file_extension": ".py",
   "mimetype": "text/x-python",
   "name": "python",
   "nbconvert_exporter": "python",
   "pygments_lexer": "ipython3",
   "version": "3.10.14"
  }
 },
 "nbformat": 4,
 "nbformat_minor": 2
}
