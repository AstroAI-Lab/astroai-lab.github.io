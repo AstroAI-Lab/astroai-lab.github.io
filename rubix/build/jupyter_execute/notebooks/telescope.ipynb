{
 "cells": [
  {
   "cell_type": "markdown",
   "metadata": {},
   "source": [
    "# Telescopes\n",
    "\n",
    "`RUBIX` offers the oppertunity to observe with different instruments. To define an instrument, you have to create a `telescope_config` and then you can load the instrument with the `TelescopeFactory`."
   ]
  },
  {
   "cell_type": "code",
   "execution_count": 1,
   "metadata": {},
   "outputs": [],
   "source": [
    "# NBVAL_IGNORE_OUTPUT\n",
    "from rubix.telescope import TelescopeFactory\n",
    "\n",
    "telescope_config = {\n",
    "    \"MUSE\": {\n",
    "        \"fov\": 5.0,\n",
    "        \"spatial_res\": 0.2,\n",
    "        \"wave_range\": [4700.15, 9351.4],\n",
    "        \"wave_res\": 1.25,\n",
    "        \"lsf_fwhm\": 2.51,\n",
    "        \"signal_to_noise\": None,\n",
    "        \"wave_centre\": 6975.775,\n",
    "        \"aperture_type\": \"square\",\n",
    "        \"pixel_type\": \"square\"\n",
    "    }\n",
    "}"
   ]
  },
  {
   "cell_type": "code",
   "execution_count": 2,
   "metadata": {},
   "outputs": [
    {
     "ename": "TypeCheckError",
     "evalue": "Type-check error whilst checking the parameters of rubix.telescope.base.BaseTelescope.\nThe problem arose whilst typechecking parameter 'signal_to_noise'.\nActual value: None\nExpected type: <class 'float'>.\n----------------------\nCalled with parameters: {\n  'self':\n  BaseTelescope(...),\n  'fov':\n  5.0,\n  'spatial_res':\n  0.2,\n  'wave_range':\n  [4700.15, 9351.4],\n  'wave_res':\n  1.25,\n  'lsf_fwhm':\n  2.51,\n  'signal_to_noise':\n  None,\n  'sbin':\n  np.int64(25),\n  'aperture_region':\n  f32[625],\n  'pixel_type':\n  'square',\n  'wave_seq':\n  f32[3721],\n  'wave_edges':\n  f32[3722]\n}\nParameter annotations: (self: Any, fov: float, spatial_res: float, wave_range: List[float], wave_res: float, lsf_fwhm: float, signal_to_noise: float, sbin: int, aperture_region: Float[Array, 'sbin*sbin'], pixel_type: str, wave_seq: Float[Array, '...'], wave_edges: Float[Array, '...']) -> Any.\n",
     "output_type": "error",
     "traceback": [
      "\u001b[0;31m---------------------------------------------------------------------------\u001b[0m",
      "\u001b[0;31mBeartypeCallHintParamViolation\u001b[0m            Traceback (most recent call last)",
      "File \u001b[0;32m~/miniforge3/envs/rubix/lib/python3.13/site-packages/jaxtyping/_decorator.py:412\u001b[0m, in \u001b[0;36mjaxtyped.<locals>.wrapped_fn_impl\u001b[0;34m(args, kwargs, bound, memos)\u001b[0m\n\u001b[1;32m    411\u001b[0m \u001b[38;5;28;01mtry\u001b[39;00m:\n\u001b[0;32m--> 412\u001b[0m     \u001b[43mparam_fn\u001b[49m\u001b[43m(\u001b[49m\u001b[38;5;241;43m*\u001b[39;49m\u001b[43margs\u001b[49m\u001b[43m,\u001b[49m\u001b[43m \u001b[49m\u001b[38;5;241;43m*\u001b[39;49m\u001b[38;5;241;43m*\u001b[39;49m\u001b[43mkwargs\u001b[49m\u001b[43m)\u001b[49m\n\u001b[1;32m    413\u001b[0m \u001b[38;5;28;01mexcept\u001b[39;00m AnnotationError:\n",
      "File \u001b[0;32m<@beartype(rubix.telescope.base.BaseTelescope) at 0x1440f5080>:131\u001b[0m, in \u001b[0;36mBaseTelescope\u001b[0;34m(__beartype_get_violation, __beartype_conf, __beartype_getrandbits, __beartype_object_4694247712, __beartype_object_4504459664, __beartype_check_meta, __beartype_func, *args, **kwargs)\u001b[0m\n",
      "\u001b[0;31mBeartypeCallHintParamViolation\u001b[0m: Method rubix.telescope.base.BaseTelescope() parameter signal_to_noise=\"None\" violates type hint <class 'float'>, as <class \"builtins.NoneType\"> \"None\" not instance of float.",
      "\nDuring handling of the above exception, another exception occurred:\n",
      "\u001b[0;31mBeartypeCallHintParamViolation\u001b[0m            Traceback (most recent call last)",
      "File \u001b[0;32m~/miniforge3/envs/rubix/lib/python3.13/site-packages/jaxtyping/_decorator.py:769\u001b[0m, in \u001b[0;36m_get_problem_arg\u001b[0;34m(param_signature, args, kwargs, arguments, module, typechecker)\u001b[0m\n\u001b[1;32m    768\u001b[0m \u001b[38;5;28;01mtry\u001b[39;00m:\n\u001b[0;32m--> 769\u001b[0m     \u001b[43mfn\u001b[49m\u001b[43m(\u001b[49m\u001b[38;5;241;43m*\u001b[39;49m\u001b[43margs\u001b[49m\u001b[43m,\u001b[49m\u001b[43m \u001b[49m\u001b[38;5;241;43m*\u001b[39;49m\u001b[38;5;241;43m*\u001b[39;49m\u001b[43mkwargs\u001b[49m\u001b[43m)\u001b[49m\n\u001b[1;32m    770\u001b[0m \u001b[38;5;28;01mexcept\u001b[39;00m \u001b[38;5;167;01mException\u001b[39;00m \u001b[38;5;28;01mas\u001b[39;00m e:\n",
      "File \u001b[0;32m<@beartype(rubix.telescope.base.check_single_arg) at 0x1440f6700>:28\u001b[0m, in \u001b[0;36mcheck_single_arg\u001b[0;34m(__beartype_get_violation, __beartype_conf, __beartype_check_meta, __beartype_func, *args, **kwargs)\u001b[0m\n",
      "\u001b[0;31mBeartypeCallHintParamViolation\u001b[0m: Method rubix.telescope.base.check_single_arg() parameter signal_to_noise=\"None\" violates type hint <class 'float'>, as <class \"builtins.NoneType\"> \"None\" not instance of float.",
      "\nThe above exception was the direct cause of the following exception:\n",
      "\u001b[0;31mTypeCheckError\u001b[0m                            Traceback (most recent call last)",
      "File \u001b[0;32m~/miniforge3/envs/rubix/lib/python3.13/site-packages/jaxtyping/_decorator.py:417\u001b[0m, in \u001b[0;36mjaxtyped.<locals>.wrapped_fn_impl\u001b[0;34m(args, kwargs, bound, memos)\u001b[0m\n\u001b[1;32m    416\u001b[0m \u001b[38;5;28;01mtry\u001b[39;00m:\n\u001b[0;32m--> 417\u001b[0m     argmsg \u001b[38;5;241m=\u001b[39m \u001b[43m_get_problem_arg\u001b[49m\u001b[43m(\u001b[49m\n\u001b[1;32m    418\u001b[0m \u001b[43m        \u001b[49m\u001b[43mparam_signature\u001b[49m\u001b[43m,\u001b[49m\n\u001b[1;32m    419\u001b[0m \u001b[43m        \u001b[49m\u001b[43margs\u001b[49m\u001b[43m,\u001b[49m\n\u001b[1;32m    420\u001b[0m \u001b[43m        \u001b[49m\u001b[43mkwargs\u001b[49m\u001b[43m,\u001b[49m\n\u001b[1;32m    421\u001b[0m \u001b[43m        \u001b[49m\u001b[43mbound\u001b[49m\u001b[38;5;241;43m.\u001b[39;49m\u001b[43marguments\u001b[49m\u001b[43m,\u001b[49m\n\u001b[1;32m    422\u001b[0m \u001b[43m        \u001b[49m\u001b[43mmodule\u001b[49m\u001b[43m,\u001b[49m\n\u001b[1;32m    423\u001b[0m \u001b[43m        \u001b[49m\u001b[43mtypechecker\u001b[49m\u001b[43m,\u001b[49m\n\u001b[1;32m    424\u001b[0m \u001b[43m    \u001b[49m\u001b[43m)\u001b[49m\n\u001b[1;32m    425\u001b[0m \u001b[38;5;28;01mexcept\u001b[39;00m TypeCheckError \u001b[38;5;28;01mas\u001b[39;00m e:\n",
      "File \u001b[0;32m~/miniforge3/envs/rubix/lib/python3.13/site-packages/jaxtyping/_decorator.py:772\u001b[0m, in \u001b[0;36m_get_problem_arg\u001b[0;34m(param_signature, args, kwargs, arguments, module, typechecker)\u001b[0m\n\u001b[1;32m    771\u001b[0m         keep_value \u001b[38;5;241m=\u001b[39m _pformat(arguments[keep_name], short_self\u001b[38;5;241m=\u001b[39m\u001b[38;5;28;01mFalse\u001b[39;00m)\n\u001b[0;32m--> 772\u001b[0m         \u001b[38;5;28;01mraise\u001b[39;00m TypeCheckError(\n\u001b[1;32m    773\u001b[0m             \u001b[38;5;124mf\u001b[39m\u001b[38;5;124m\"\u001b[39m\u001b[38;5;130;01m\\n\u001b[39;00m\u001b[38;5;124mThe problem arose whilst typechecking parameter \u001b[39m\u001b[38;5;124m'\u001b[39m\u001b[38;5;132;01m{\u001b[39;00mkeep_name\u001b[38;5;132;01m}\u001b[39;00m\u001b[38;5;124m'\u001b[39m\u001b[38;5;124m.\u001b[39m\u001b[38;5;130;01m\\n\u001b[39;00m\u001b[38;5;124m\"\u001b[39m\n\u001b[1;32m    774\u001b[0m             \u001b[38;5;124mf\u001b[39m\u001b[38;5;124m\"\u001b[39m\u001b[38;5;124mActual value: \u001b[39m\u001b[38;5;132;01m{\u001b[39;00mkeep_value\u001b[38;5;132;01m}\u001b[39;00m\u001b[38;5;130;01m\\n\u001b[39;00m\u001b[38;5;124m\"\u001b[39m\n\u001b[1;32m    775\u001b[0m             \u001b[38;5;124mf\u001b[39m\u001b[38;5;124m\"\u001b[39m\u001b[38;5;124mExpected type: \u001b[39m\u001b[38;5;132;01m{\u001b[39;00mkeep_annotation\u001b[38;5;132;01m}\u001b[39;00m\u001b[38;5;124m.\u001b[39m\u001b[38;5;124m\"\u001b[39m\n\u001b[1;32m    776\u001b[0m         ) \u001b[38;5;28;01mfrom\u001b[39;00m \u001b[38;5;21;01me\u001b[39;00m\n\u001b[1;32m    777\u001b[0m \u001b[38;5;28;01melse\u001b[39;00m:\n\u001b[1;32m    778\u001b[0m     \u001b[38;5;66;03m# Could not localise the problem to a single argument -- probably due to\u001b[39;00m\n\u001b[1;32m    779\u001b[0m     \u001b[38;5;66;03m# e.g. a mismatched typevar, which each individual argument is okay with.\u001b[39;00m\n",
      "\u001b[0;31mTypeCheckError\u001b[0m: \nThe problem arose whilst typechecking parameter 'signal_to_noise'.\nActual value: None\nExpected type: <class 'float'>.",
      "\nThe above exception was the direct cause of the following exception:\n",
      "\u001b[0;31mTypeCheckError\u001b[0m                            Traceback (most recent call last)",
      "Cell \u001b[0;32mIn[2], line 3\u001b[0m\n\u001b[1;32m      1\u001b[0m \u001b[38;5;66;03m# NBVAL_IGNORE_OUTPUT\u001b[39;00m\n\u001b[1;32m      2\u001b[0m factory \u001b[38;5;241m=\u001b[39m TelescopeFactory(telescope_config) \u001b[38;5;66;03m# Uses the defined telescope configuration\u001b[39;00m\n\u001b[0;32m----> 3\u001b[0m telescope \u001b[38;5;241m=\u001b[39m \u001b[43mfactory\u001b[49m\u001b[38;5;241;43m.\u001b[39;49m\u001b[43mcreate_telescope\u001b[49m\u001b[43m(\u001b[49m\u001b[38;5;124;43m\"\u001b[39;49m\u001b[38;5;124;43mMUSE\u001b[39;49m\u001b[38;5;124;43m\"\u001b[39;49m\u001b[43m)\u001b[49m\n\u001b[1;32m      4\u001b[0m \u001b[38;5;28mprint\u001b[39m(telescope)\n",
      "    \u001b[0;31m[... skipping hidden 1 frame]\u001b[0m\n",
      "File \u001b[0;32m~/miniforge3/envs/rubix/lib/python3.13/site-packages/jaxtyping/_decorator.py:449\u001b[0m, in \u001b[0;36mjaxtyped.<locals>.wrapped_fn_impl\u001b[0;34m(args, kwargs, bound, memos)\u001b[0m\n\u001b[1;32m    446\u001b[0m             \u001b[38;5;28;01mraise\u001b[39;00m TypeCheckError(msg) \u001b[38;5;28;01mfrom\u001b[39;00m \u001b[38;5;21;01me\u001b[39;00m\n\u001b[1;32m    448\u001b[0m \u001b[38;5;66;03m# Actually call the function.\u001b[39;00m\n\u001b[0;32m--> 449\u001b[0m out \u001b[38;5;241m=\u001b[39m \u001b[43mfn\u001b[49m\u001b[43m(\u001b[49m\u001b[38;5;241;43m*\u001b[39;49m\u001b[43margs\u001b[49m\u001b[43m,\u001b[49m\u001b[43m \u001b[49m\u001b[38;5;241;43m*\u001b[39;49m\u001b[38;5;241;43m*\u001b[39;49m\u001b[43mkwargs\u001b[49m\u001b[43m)\u001b[49m\n\u001b[1;32m    451\u001b[0m \u001b[38;5;28;01mif\u001b[39;00m full_signature\u001b[38;5;241m.\u001b[39mreturn_annotation \u001b[38;5;129;01mis\u001b[39;00m \u001b[38;5;129;01mnot\u001b[39;00m inspect\u001b[38;5;241m.\u001b[39mSignature\u001b[38;5;241m.\u001b[39mempty:\n\u001b[1;32m    452\u001b[0m     \u001b[38;5;66;03m# Now type-check the return value. We need to include the\u001b[39;00m\n\u001b[1;32m    453\u001b[0m     \u001b[38;5;66;03m# parameters in the type-checking here in case there are any\u001b[39;00m\n\u001b[0;32m   (...)\u001b[0m\n\u001b[1;32m    464\u001b[0m     \u001b[38;5;66;03m# checking of the parameters. Unfortunately there doesn't seem\u001b[39;00m\n\u001b[1;32m    465\u001b[0m     \u001b[38;5;66;03m# to be a way around that, so c'est la vie.\u001b[39;00m\n\u001b[1;32m    466\u001b[0m     kwargs[output_name] \u001b[38;5;241m=\u001b[39m out\n",
      "File \u001b[0;32m~/Documents/Nexus/Projects/rubix/rubix/telescope/factory.py:83\u001b[0m, in \u001b[0;36mTelescopeFactory.create_telescope\u001b[0;34m(self, name)\u001b[0m\n\u001b[1;32m     80\u001b[0m wave_seq \u001b[38;5;241m=\u001b[39m calculate_wave_seq(config[\u001b[38;5;124m\"\u001b[39m\u001b[38;5;124mwave_range\u001b[39m\u001b[38;5;124m\"\u001b[39m], config[\u001b[38;5;124m\"\u001b[39m\u001b[38;5;124mwave_res\u001b[39m\u001b[38;5;124m\"\u001b[39m])\n\u001b[1;32m     81\u001b[0m wave_edges \u001b[38;5;241m=\u001b[39m calculate_wave_edges(wave_seq, config[\u001b[38;5;124m\"\u001b[39m\u001b[38;5;124mwave_res\u001b[39m\u001b[38;5;124m\"\u001b[39m])\n\u001b[0;32m---> 83\u001b[0m telescope \u001b[38;5;241m=\u001b[39m \u001b[43mBaseTelescope\u001b[49m\u001b[43m(\u001b[49m\n\u001b[1;32m     84\u001b[0m \u001b[43m    \u001b[49m\u001b[43mfov\u001b[49m\u001b[38;5;241;43m=\u001b[39;49m\u001b[43mconfig\u001b[49m\u001b[43m[\u001b[49m\u001b[38;5;124;43m\"\u001b[39;49m\u001b[38;5;124;43mfov\u001b[39;49m\u001b[38;5;124;43m\"\u001b[39;49m\u001b[43m]\u001b[49m\u001b[43m,\u001b[49m\n\u001b[1;32m     85\u001b[0m \u001b[43m    \u001b[49m\u001b[43mspatial_res\u001b[49m\u001b[38;5;241;43m=\u001b[39;49m\u001b[43mconfig\u001b[49m\u001b[43m[\u001b[49m\u001b[38;5;124;43m\"\u001b[39;49m\u001b[38;5;124;43mspatial_res\u001b[39;49m\u001b[38;5;124;43m\"\u001b[39;49m\u001b[43m]\u001b[49m\u001b[43m,\u001b[49m\n\u001b[1;32m     86\u001b[0m \u001b[43m    \u001b[49m\u001b[43mwave_range\u001b[49m\u001b[38;5;241;43m=\u001b[39;49m\u001b[43mconfig\u001b[49m\u001b[43m[\u001b[49m\u001b[38;5;124;43m\"\u001b[39;49m\u001b[38;5;124;43mwave_range\u001b[39;49m\u001b[38;5;124;43m\"\u001b[39;49m\u001b[43m]\u001b[49m\u001b[43m,\u001b[49m\n\u001b[1;32m     87\u001b[0m \u001b[43m    \u001b[49m\u001b[43mwave_res\u001b[49m\u001b[38;5;241;43m=\u001b[39;49m\u001b[43mconfig\u001b[49m\u001b[43m[\u001b[49m\u001b[38;5;124;43m\"\u001b[39;49m\u001b[38;5;124;43mwave_res\u001b[39;49m\u001b[38;5;124;43m\"\u001b[39;49m\u001b[43m]\u001b[49m\u001b[43m,\u001b[49m\n\u001b[1;32m     88\u001b[0m \u001b[43m    \u001b[49m\u001b[43mlsf_fwhm\u001b[49m\u001b[38;5;241;43m=\u001b[39;49m\u001b[43mconfig\u001b[49m\u001b[43m[\u001b[49m\u001b[38;5;124;43m\"\u001b[39;49m\u001b[38;5;124;43mlsf_fwhm\u001b[39;49m\u001b[38;5;124;43m\"\u001b[39;49m\u001b[43m]\u001b[49m\u001b[43m,\u001b[49m\n\u001b[1;32m     89\u001b[0m \u001b[43m    \u001b[49m\u001b[43msignal_to_noise\u001b[49m\u001b[38;5;241;43m=\u001b[39;49m\u001b[43mconfig\u001b[49m\u001b[43m[\u001b[49m\u001b[38;5;124;43m\"\u001b[39;49m\u001b[38;5;124;43msignal_to_noise\u001b[39;49m\u001b[38;5;124;43m\"\u001b[39;49m\u001b[43m]\u001b[49m\u001b[43m,\u001b[49m\n\u001b[1;32m     90\u001b[0m \u001b[43m    \u001b[49m\u001b[43msbin\u001b[49m\u001b[38;5;241;43m=\u001b[39;49m\u001b[43msbin\u001b[49m\u001b[43m,\u001b[49m\n\u001b[1;32m     91\u001b[0m \u001b[43m    \u001b[49m\u001b[43maperture_region\u001b[49m\u001b[38;5;241;43m=\u001b[39;49m\u001b[43maperture_region\u001b[49m\u001b[43m,\u001b[49m\n\u001b[1;32m     92\u001b[0m \u001b[43m    \u001b[49m\u001b[43mpixel_type\u001b[49m\u001b[38;5;241;43m=\u001b[39;49m\u001b[43mconfig\u001b[49m\u001b[43m[\u001b[49m\u001b[38;5;124;43m\"\u001b[39;49m\u001b[38;5;124;43mpixel_type\u001b[39;49m\u001b[38;5;124;43m\"\u001b[39;49m\u001b[43m]\u001b[49m\u001b[43m,\u001b[49m\n\u001b[1;32m     93\u001b[0m \u001b[43m    \u001b[49m\u001b[43mwave_seq\u001b[49m\u001b[38;5;241;43m=\u001b[39;49m\u001b[43mwave_seq\u001b[49m\u001b[43m,\u001b[49m\n\u001b[1;32m     94\u001b[0m \u001b[43m    \u001b[49m\u001b[43mwave_edges\u001b[49m\u001b[38;5;241;43m=\u001b[39;49m\u001b[43mwave_edges\u001b[49m\u001b[43m,\u001b[49m\n\u001b[1;32m     95\u001b[0m \u001b[43m\u001b[49m\u001b[43m)\u001b[49m\n\u001b[1;32m     96\u001b[0m telescope\u001b[38;5;241m.\u001b[39m\u001b[38;5;18m__class__\u001b[39m\u001b[38;5;241m.\u001b[39m\u001b[38;5;18m__name__\u001b[39m \u001b[38;5;241m=\u001b[39m name\n\u001b[1;32m     98\u001b[0m \u001b[38;5;28;01mreturn\u001b[39;00m telescope\n",
      "    \u001b[0;31m[... skipping hidden 3 frame]\u001b[0m\n",
      "File \u001b[0;32m~/miniforge3/envs/rubix/lib/python3.13/site-packages/jaxtyping/_decorator.py:582\u001b[0m, in \u001b[0;36m_check_dataclass_annotations\u001b[0;34m(self, typechecker)\u001b[0m\n\u001b[1;32m    574\u001b[0m f \u001b[38;5;241m=\u001b[39m _make_fn_with_signature(\n\u001b[1;32m    575\u001b[0m     \u001b[38;5;28mself\u001b[39m\u001b[38;5;241m.\u001b[39m\u001b[38;5;18m__class__\u001b[39m\u001b[38;5;241m.\u001b[39m\u001b[38;5;18m__name__\u001b[39m,\n\u001b[1;32m    576\u001b[0m     \u001b[38;5;28mself\u001b[39m\u001b[38;5;241m.\u001b[39m\u001b[38;5;18m__class__\u001b[39m\u001b[38;5;241m.\u001b[39m\u001b[38;5;18m__qualname__\u001b[39m,\n\u001b[0;32m   (...)\u001b[0m\n\u001b[1;32m    579\u001b[0m     output\u001b[38;5;241m=\u001b[39m\u001b[38;5;28;01mFalse\u001b[39;00m,\n\u001b[1;32m    580\u001b[0m )\n\u001b[1;32m    581\u001b[0m f \u001b[38;5;241m=\u001b[39m jaxtyped(f, typechecker\u001b[38;5;241m=\u001b[39mtypechecker)\n\u001b[0;32m--> 582\u001b[0m \u001b[43mf\u001b[49m\u001b[43m(\u001b[49m\u001b[38;5;28;43mself\u001b[39;49m\u001b[43m,\u001b[49m\u001b[43m \u001b[49m\u001b[38;5;241;43m*\u001b[39;49m\u001b[38;5;241;43m*\u001b[39;49m\u001b[43mvalues\u001b[49m\u001b[43m)\u001b[49m\n",
      "    \u001b[0;31m[... skipping hidden 1 frame]\u001b[0m\n",
      "File \u001b[0;32m~/miniforge3/envs/rubix/lib/python3.13/site-packages/jaxtyping/_decorator.py:446\u001b[0m, in \u001b[0;36mjaxtyped.<locals>.wrapped_fn_impl\u001b[0;34m(args, kwargs, bound, memos)\u001b[0m\n\u001b[1;32m    444\u001b[0m             \u001b[38;5;28;01mraise\u001b[39;00m TypeCheckError(msg) \u001b[38;5;28;01mfrom\u001b[39;00m \u001b[38;5;28;01mNone\u001b[39;00m\n\u001b[1;32m    445\u001b[0m         \u001b[38;5;28;01melse\u001b[39;00m:\n\u001b[0;32m--> 446\u001b[0m             \u001b[38;5;28;01mraise\u001b[39;00m TypeCheckError(msg) \u001b[38;5;28;01mfrom\u001b[39;00m \u001b[38;5;21;01me\u001b[39;00m\n\u001b[1;32m    448\u001b[0m \u001b[38;5;66;03m# Actually call the function.\u001b[39;00m\n\u001b[1;32m    449\u001b[0m out \u001b[38;5;241m=\u001b[39m fn(\u001b[38;5;241m*\u001b[39margs, \u001b[38;5;241m*\u001b[39m\u001b[38;5;241m*\u001b[39mkwargs)\n",
      "\u001b[0;31mTypeCheckError\u001b[0m: Type-check error whilst checking the parameters of rubix.telescope.base.BaseTelescope.\nThe problem arose whilst typechecking parameter 'signal_to_noise'.\nActual value: None\nExpected type: <class 'float'>.\n----------------------\nCalled with parameters: {\n  'self':\n  BaseTelescope(...),\n  'fov':\n  5.0,\n  'spatial_res':\n  0.2,\n  'wave_range':\n  [4700.15, 9351.4],\n  'wave_res':\n  1.25,\n  'lsf_fwhm':\n  2.51,\n  'signal_to_noise':\n  None,\n  'sbin':\n  np.int64(25),\n  'aperture_region':\n  f32[625],\n  'pixel_type':\n  'square',\n  'wave_seq':\n  f32[3721],\n  'wave_edges':\n  f32[3722]\n}\nParameter annotations: (self: Any, fov: float, spatial_res: float, wave_range: List[float], wave_res: float, lsf_fwhm: float, signal_to_noise: float, sbin: int, aperture_region: Float[Array, 'sbin*sbin'], pixel_type: str, wave_seq: Float[Array, '...'], wave_edges: Float[Array, '...']) -> Any.\n"
     ]
    }
   ],
   "source": [
    "# NBVAL_IGNORE_OUTPUT\n",
    "factory = TelescopeFactory(telescope_config) # Uses the defined telescope configuration\n",
    "telescope = factory.create_telescope(\"MUSE\")\n",
    "print(telescope)"
   ]
  },
  {
   "cell_type": "markdown",
   "metadata": {},
   "source": [
    "## Predefined instruments\n",
    "\n",
    "Some instruments are predefined (e.g. MUSE) and you can load them without defining an own `telescope_config`"
   ]
  },
  {
   "cell_type": "code",
   "execution_count": null,
   "metadata": {},
   "outputs": [],
   "source": [
    "# NBVAL_IGNORE_OUTPUT\n",
    "factory = TelescopeFactory() # Uses the default config\n",
    "telescope = factory.create_telescope(\"MUSE\")\n",
    "print(telescope)"
   ]
  },
  {
   "cell_type": "code",
   "execution_count": null,
   "metadata": {},
   "outputs": [],
   "source": [
    "from rubix.core.telescope import get_telescope\n",
    "\n",
    "config_MUSE = {\"telescope\": {\"name\": \"MUSE\"}}\n",
    "\n",
    "telescope = get_telescope(config_MUSE)\n",
    "print(telescope)"
   ]
  }
 ],
 "metadata": {
  "kernelspec": {
   "display_name": "rubix",
   "language": "python",
   "name": "python3"
  },
  "language_info": {
   "codemirror_mode": {
    "name": "ipython",
    "version": 3
   },
   "file_extension": ".py",
   "mimetype": "text/x-python",
   "name": "python",
   "nbconvert_exporter": "python",
   "pygments_lexer": "ipython3",
   "version": "3.13.0"
  }
 },
 "nbformat": 4,
 "nbformat_minor": 2
}